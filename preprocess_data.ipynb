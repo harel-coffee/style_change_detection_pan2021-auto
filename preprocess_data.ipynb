{
 "cells": [
  {
   "cell_type": "code",
   "execution_count": null,
   "metadata": {
    "collapsed": true
   },
   "outputs": [],
   "source": [
    "import pickle\n",
    "import json\n",
    "import glob\n",
    "from tqdm.auto import trange, tqdm\n",
    "from features import prepare_entry"
   ]
  },
  {
   "cell_type": "code",
   "execution_count": null,
   "metadata": {
    "collapsed": true
   },
   "outputs": [],
   "source": [
    "def preprocess_files_in_dir(raw_files_path, processed_file_path):\n",
    "    raw_file_names = glob.glob(raw_files_path+'*')\n",
    "\n",
    "    for raw_file in tqdm(raw_file_names):\n",
    "\n",
    "        open_raw_file = open(raw_file, 'r')\n",
    "\n",
    "        prob_num = raw_file.split('/')[-1]\n",
    "        problem_nums = prob_num.split('.')[0]\n",
    "        num = problem_nums.split('-')[-1]\n",
    "\n",
    "        output_file = processed_file_path+'/problem-'+num+'.jsonl'\n",
    "\n",
    "        paragraph = \"\"\n",
    "\n",
    "        with open(output_file, 'w') as f:\n",
    "#             for line in open_raw_file.read().split('\\n\\n'):\n",
    "            for line in open_raw_file.readlines():\n",
    "                x = line.strip()\n",
    "                preprocessed = prepare_entry(x, mode='accurate', tokenizer='casual')\n",
    "                json.dump(preprocessed, f)\n",
    "                f.write('\\n')"
   ]
  },
  {
   "cell_type": "code",
   "execution_count": null,
   "metadata": {},
   "outputs": [],
   "source": [
    "raw_files_path = 'pan2021/train/problem'\n",
    "processed_file_path =  'preprocessed_data/2021/train/'\n",
    "preprocess_files_in_dir(raw_files_path, processed_file_path)"
   ]
  },
  {
   "cell_type": "code",
   "execution_count": null,
   "metadata": {},
   "outputs": [],
   "source": [
    "raw_files_path = 'pan2021/validation/problem'\n",
    "processed_file_path =  'preprocessed_data/2021/validation/'\n",
    "preprocess_files_in_dir(raw_files_path, processed_file_path)"
   ]
  }
 ],
 "metadata": {
  "kernelspec": {
   "display_name": "Python 3",
   "language": "python",
   "name": "python3"
  },
  "language_info": {
   "codemirror_mode": {
    "name": "ipython",
    "version": 3
   },
   "file_extension": ".py",
   "mimetype": "text/x-python",
   "name": "python",
   "nbconvert_exporter": "python",
   "pygments_lexer": "ipython3",
   "version": "3.6.9"
  }
 },
 "nbformat": 4,
 "nbformat_minor": 2
}
