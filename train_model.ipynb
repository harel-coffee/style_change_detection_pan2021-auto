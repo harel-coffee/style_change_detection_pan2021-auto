{
 "cells": [
  {
   "cell_type": "code",
   "execution_count": null,
   "metadata": {},
   "outputs": [],
   "source": [
    "%load_ext autoreload\n",
    "%autoreload 2"
   ]
  },
  {
   "cell_type": "code",
   "execution_count": 4,
   "metadata": {
    "collapsed": true
   },
   "outputs": [],
   "source": [
    "from utills import get_files_in_dir, get_file_nums, load_preprocessed_paras, paragraph_indecies, load_ground_truth_from_nums, order_files_multi_years\n",
    "from sklearn.preprocessing import StandardScaler\n",
    "from features import get_transformer\n",
    "from tqdm.auto import tqdm\n",
    "import numpy as np\n",
    "from sklearn.linear_model import SGDClassifier, LogisticRegression\n",
    "import pickle\n",
    "from utills import cartesian_product\n",
    "from sklearn.utils.fixes import loguniform\n",
    "from sklearn.model_selection import RandomizedSearchCV"
   ]
  },
  {
   "cell_type": "code",
   "execution_count": 5,
   "metadata": {
    "collapsed": true
   },
   "outputs": [],
   "source": [
    "PREPROCESSED_DIR = 'preprocessed_data/'\n",
    "GROUND_TRUTH_BASE_DIR = 'data/pan2021/train/'\n",
    "MODEL_PATH = 'temp_data/model.p'"
   ]
  },
  {
   "cell_type": "markdown",
   "metadata": {},
   "source": [
    "Load Data\n",
    "==="
   ]
  },
  {
   "cell_type": "code",
   "execution_count": 6,
   "metadata": {
    "collapsed": true
   },
   "outputs": [],
   "source": [
    "file_names_2021 = get_files_in_dir(PREPROCESSED_DIR + '2021/train/')\n",
    "file_nums_2021 = order_files_multi_years(file_names_2021, '2021')\n",
    "\n",
    "# file_names_2020_narrow = get_files_in_dir(PREPROCESSED_DIR + '2020/train/dataset-narrow/')\n",
    "# file_nums_2020_narrow = order_files_multi_years(file_names_2020_narrow, '2020_narrow')\n",
    "\n",
    "# file_names_2020_wide = get_files_in_dir(PREPROCESSED_DIR + '2020/train/dataset-wide/')\n",
    "# file_nums_2020_wide = order_files_multi_years(file_names_2020_wide, '2020_wide')\n",
    "\n",
    "# file_names_2019 = get_files_in_dir(PREPROCESSED_DIR + '2019/train/')\n",
    "# file_nums_2019 = order_files_multi_years(file_names_2021, '2019')"
   ]
  },
  {
   "cell_type": "code",
   "execution_count": 7,
   "metadata": {
    "collapsed": true
   },
   "outputs": [],
   "source": [
    "all_file_names = file_names_2021 \n",
    "all_preprocessed_paras = load_preprocessed_paras(all_file_names)\n",
    "paragraph_indecies_dict = paragraph_indecies(all_file_names)"
   ]
  },
  {
   "cell_type": "code",
   "execution_count": 7,
   "metadata": {
    "collapsed": true
   },
   "outputs": [],
   "source": [
    "ground_truth_2021 = load_ground_truth_from_nums(\n",
    "    GROUND_TRUTH_BASE_DIR + 'pan2021/train/', \n",
    "    [fn.replace('_2021', '') for fn in file_nums_2021]\n",
    ")\n",
    "\n",
    "# ground_truth_2019 = load_ground_truth_from_nums(\n",
    "#     GROUND_TRUTH_BASE_DIR + 'pan2019/train/', \n",
    "#     [fn.replace('_2019', '') for fn in file_nums_2019]\n",
    "# )\n",
    "\n",
    "# ground_truth_2020_wide = load_ground_truth_from_nums(\n",
    "#     GROUND_TRUTH_BASE_DIR + 'pan2020/train/dataset-wide/', \n",
    "#     [fn.replace('_2020_wide', '') for fn in file_nums_2020_wide]\n",
    "# )\n",
    "\n",
    "# ground_truth_2020_narrow = load_ground_truth_from_nums(\n",
    "#     GROUND_TRUTH_BASE_DIR + 'pan2020/train/dataset-narrow/', \n",
    "#     [fn.replace('_2020_narrow', '') for fn in file_nums_2020_narrow]\n",
    "# )"
   ]
  },
  {
   "cell_type": "code",
   "execution_count": 8,
   "metadata": {
    "collapsed": true
   },
   "outputs": [],
   "source": [
    "ground_truth = ground_truth_2021 "
   ]
  },
  {
   "cell_type": "markdown",
   "metadata": {},
   "source": [
    "Fit Transformers\n",
    "==="
   ]
  },
  {
   "cell_type": "code",
   "execution_count": 9,
   "metadata": {
    "collapsed": true
   },
   "outputs": [],
   "source": [
    "def fit_transformers(docs):\n",
    "    transformer = get_transformer()\n",
    "    scaler = StandardScaler()\n",
    "\n",
    "    X = transformer.fit_transform(docs).todense()\n",
    "    X = scaler.fit_transform(X)\n",
    "    return X, transformer, scaler\n",
    "\n",
    "\n",
    "def diff_vectors(file_paragraph_indecies,feature_matrix):\n",
    "    \"\"\"\n",
    "        Given a feature matrix and a dictionary with the paragraph indecies per file,\n",
    "        return a matrix with the diff between adjacent paragraphs/vectors.\n",
    "    \"\"\"\n",
    "    X_diff = []\n",
    "\n",
    "    for k in tqdm(file_paragraph_indecies.keys()):\n",
    "        first = file_paragraph_indecies[k][0]\n",
    "        last_file = file_paragraph_indecies[k][1]\n",
    "\n",
    "        for i in range(first,last_file-1):\n",
    "            #diff = feature_matrix[i] - feature_matrix[i+1]\n",
    "            diff = feature_matrix[i+1] - feature_matrix[i]\n",
    "            diff = np.abs(diff)\n",
    "            X_diff.append(diff)\n",
    "            \n",
    "    return X_diff\n",
    "\n",
    "def comparison_idxs(n):\n",
    "    ret = []\n",
    "    for i in range(n):\n",
    "        for j in range(i):\n",
    "            ret.append([i, j])\n",
    "    return np.array(ret)\n",
    "\n",
    "\n",
    "def generate_training_pairs(paragraph_indecies_dict, X):\n",
    "    X_diff = []\n",
    "    Y = []\n",
    "    for i, (k, (s, e)) in enumerate(paragraph_indecies_dict.items()):\n",
    "        num_paras = e - s\n",
    "        para_authors = np.array(ground_truth[i]['paragraph-authors'])\n",
    "        para_idxs = np.arange(s, e)\n",
    "        idxs = comparison_idxs(num_paras)\n",
    "        y = para_authors[idxs[:, 0]] != para_authors[idxs[:, 1]]\n",
    "        x = np.abs(X[para_idxs[idxs[:, 0]]] - X[para_idxs[idxs[:, 1]]])\n",
    "\n",
    "        Y.extend(y)\n",
    "        X_diff.extend(x)\n",
    "\n",
    "    X_diff = np.array(X_diff)\n",
    "    Y = np.array(Y)\n",
    "    return X_diff, Y"
   ]
  },
  {
   "cell_type": "code",
   "execution_count": null,
   "metadata": {},
   "outputs": [],
   "source": [
    "X, transformer, primary_scaler = fit_transformers(all_preprocessed_paras)\n",
    "X_diff = diff_vectors(paragraph_indecies_dict, X)\n",
    "Y = []\n",
    "for gt in ground_truth:\n",
    "    Y.extend(gt['changes'])\n",
    "    \n",
    "assert len(Y) == len(X_diff)\n",
    "\n",
    "X_diff_2, Y_2 = generate_training_pairs(paragraph_indecies_dict, X)\n"
   ]
  },
  {
   "cell_type": "code",
   "execution_count": 13,
   "metadata": {
    "collapsed": true
   },
   "outputs": [],
   "source": [
    "XX = np.concatenate([X_diff, X_diff_2])\n",
    "YY = np.concatenate([Y, Y_2])\n",
    "\n",
    "# XX = X_diff\n",
    "# YY = Y"
   ]
  },
  {
   "cell_type": "code",
   "execution_count": 14,
   "metadata": {
    "collapsed": true
   },
   "outputs": [],
   "source": [
    "# Fit secondary scaler\n",
    "secondary_scaler = StandardScaler()\n",
    "XX = secondary_scaler.fit_transform(XX)"
   ]
  },
  {
   "cell_type": "markdown",
   "metadata": {},
   "source": [
    "Train the classifier\n",
    "==="
   ]
  },
  {
   "cell_type": "code",
   "execution_count": null,
   "metadata": {
    "scrolled": true
   },
   "outputs": [],
   "source": [
    "param_dist = {'C': loguniform(1e-4, 1e0)}\n",
    "\n",
    "clf = LogisticRegression(class_weight='balanced', max_iter=1000)\n",
    "n_iter_search = 20\n",
    "random_search = RandomizedSearchCV(clf, param_distributions=param_dist, n_iter=n_iter_search, verbose=2)\n",
    "random_search.fit(XX, YY)"
   ]
  },
  {
   "cell_type": "code",
   "execution_count": 23,
   "metadata": {},
   "outputs": [
    {
     "data": {
      "text/plain": [
       "{'C': 0.005960555748827062}"
      ]
     },
     "execution_count": 23,
     "metadata": {},
     "output_type": "execute_result"
    }
   ],
   "source": [
    "clf = random_search.best_estimator_\n",
    "random_search.best_params_"
   ]
  },
  {
   "cell_type": "code",
   "execution_count": 16,
   "metadata": {},
   "outputs": [
    {
     "data": {
      "text/plain": [
       "array(['char_distr__you', 'special_char_distr__?', 'char_distr__ yo',\n",
       "       'char_distr__ i ', 'char_distr__ur ', \"special_char_distr__'\",\n",
       "       'freq_func_words__your', 'masked_stop_words_distr__i',\n",
       "       'pos_tag_distr__PRP$', 'char_distr__yo',\n",
       "       'pos_tag_stats__tag_word_length_PRP$',\n",
       "       'masked_stop_words_distr__would', 'masked_stop_words_distr__my',\n",
       "       'freq_func_words__in', 'char_distr__?',\n",
       "       'masked_stop_words_distr__your', 'char_distr__d. ',\n",
       "       'special_char_distr__\"', 'special_char_distr__.',\n",
       "       'freq_func_words__to'], dtype='<U43')"
      ]
     },
     "execution_count": 16,
     "metadata": {},
     "output_type": "execute_result"
    }
   ],
   "source": [
    "feature_names = np.array(transformer.get_feature_names())\n",
    "feature_names[np.argsort(-np.abs(clf.coef_[0]))][:20]"
   ]
  },
  {
   "cell_type": "code",
   "execution_count": 17,
   "metadata": {
    "collapsed": true
   },
   "outputs": [],
   "source": [
    "with open(MODEL_PATH, 'wb') as f:\n",
    "    pickle.dump((\n",
    "        transformer,\n",
    "        primary_scaler,\n",
    "        secondary_scaler,\n",
    "        clf\n",
    "    ), f)"
   ]
  }
 ],
 "metadata": {
  "kernelspec": {
   "display_name": "Python 3",
   "language": "python",
   "name": "python3"
  },
  "language_info": {
   "codemirror_mode": {
    "name": "ipython",
    "version": 3
   },
   "file_extension": ".py",
   "mimetype": "text/x-python",
   "name": "python",
   "nbconvert_exporter": "python",
   "pygments_lexer": "ipython3",
   "version": "3.6.9"
  }
 },
 "nbformat": 4,
 "nbformat_minor": 2
}
