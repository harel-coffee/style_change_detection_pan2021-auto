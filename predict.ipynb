{
 "cells": [
  {
   "cell_type": "code",
   "execution_count": 1,
   "metadata": {
    "collapsed": true
   },
   "outputs": [],
   "source": [
    "%load_ext autoreload\n",
    "%autoreload 2"
   ]
  },
  {
   "cell_type": "code",
   "execution_count": 13,
   "metadata": {
    "collapsed": true
   },
   "outputs": [],
   "source": [
    "import pickle\n",
    "from utills import get_files_in_dir, get_file_nums, load_ground_truth_from_nums, load_preprocessed_paras\n",
    "from predict import make_predictions\n",
    "import json\n",
    "import os\n",
    "import numpy as np\n",
    "import math\n",
    "from tqdm.auto import tqdm, trange\n",
    "from features import prepare_entry, get_nltk_pos_tag_based_ml_chunker, perceptron_tagger, tokenize\n",
    "import evaluator # From PAN github\n",
    "import re"
   ]
  },
  {
   "cell_type": "code",
   "execution_count": 3,
   "metadata": {
    "collapsed": true
   },
   "outputs": [],
   "source": [
    "MODEL_PATH = 'temp_data/model.p'\n",
    "PREPROCESSED_VALIDATION_DIR = 'preprocessed_data/2021/validation/'\n",
    "GROUND_TRUTH_DIR = 'data/pan2021/validation/'"
   ]
  },
  {
   "cell_type": "code",
   "execution_count": 4,
   "metadata": {
    "collapsed": true
   },
   "outputs": [],
   "source": [
    "with open(MODEL_PATH, 'rb') as f:\n",
    "    (\n",
    "        transformer,\n",
    "        primary_scaler,\n",
    "        secondary_scaler,\n",
    "        clf\n",
    "    ) = pickle.load(f)"
   ]
  },
  {
   "cell_type": "code",
   "execution_count": 5,
   "metadata": {
    "collapsed": true
   },
   "outputs": [],
   "source": [
    "file_names = get_files_in_dir(PREPROCESSED_VALIDATION_DIR)\n",
    "file_nums = get_file_nums(file_names)\n",
    "all_preprocessed_paras = []\n",
    "for n in file_nums:\n",
    "    fp = os.path.join(PREPROCESSED_VALIDATION_DIR, 'problem-' + n + '.jsonl')\n",
    "    with open(fp, 'r') as f:\n",
    "        lines = f.readlines()\n",
    "    paras = [json.loads(l) for l in lines]\n",
    "    all_preprocessed_paras.append(paras)"
   ]
  },
  {
   "cell_type": "code",
   "execution_count": 11,
   "metadata": {},
   "outputs": [
    {
     "data": {
      "application/vnd.jupyter.widget-view+json": {
       "model_id": "b26e4639c99249e180e6c747ddf06eba"
      }
     },
     "metadata": {},
     "output_type": "display_data"
    },
    {
     "name": "stdout",
     "output_type": "stream",
     "text": [
      "\n"
     ]
    }
   ],
   "source": [
    "solutions = {}\n",
    "for i in trange(len(file_nums)):\n",
    "    r = make_predictions(all_preprocessed_paras[i], transformer, primary_scaler, secondary_scaler, clf, clust_thresh=0.5)\n",
    "\n",
    "    solutions['problem-' + file_nums[i]] = {\n",
    "        \"multi-author\": r[0],\n",
    "        \"changes\": r[1],\n",
    "        \"paragraph-authors\": r[2]\n",
    "    }\n",
    "\n"
   ]
  },
  {
   "cell_type": "code",
   "execution_count": 12,
   "metadata": {},
   "outputs": [
    {
     "name": "stdout",
     "output_type": "stream",
     "text": [
      "task1_score 0.649138367110405\n",
      "task2_score 0.6641936772118469\n",
      "task3_score 0.4275907844092534\n"
     ]
    }
   ],
   "source": [
    "truth = evaluator.read_ground_truth_files(GROUND_TRUTH_DIR)\n",
    "task1_results = evaluator.compute_score_single_predictions(truth, solutions, 'multi-author')\n",
    "task2_results = evaluator.compute_score_multiple_predictions(truth, solutions, 'changes', labels=[0, 1])\n",
    "task3_results = evaluator.compute_score_multiple_predictions(truth, solutions, 'paragraph-authors', labels=[1,2,3,4])\n",
    "\n",
    "print(\"task1_score\", task1_results)\n",
    "print(\"task2_score\", task2_results)\n",
    "print(\"task3_score\", task3_results)"
   ]
  },
  {
   "cell_type": "markdown",
   "metadata": {},
   "source": [
    "Old Experiment Results\n",
    "===="
   ]
  },
  {
   "cell_type": "code",
   "execution_count": 7,
   "metadata": {},
   "outputs": [
    {
     "name": "stdout",
     "output_type": "stream",
     "text": [
      "task1_score 0.6620657016243532\n",
      "task2_score 0.6304176617838073\n",
      "task3_score 0.3019430534744456\n"
     ]
    }
   ],
   "source": [
    "# 2020 Narrow, 2020 Wide, 2021 with additional training data, Logistic Regression - parameter tuned\n",
    "truth = evaluator.read_ground_truth_files(GROUND_TRUTH_DIR)\n",
    "\n",
    "task1_results = evaluator.compute_score_single_predictions(truth, solutions, 'multi-author')\n",
    "task2_results = evaluator.compute_score_multiple_predictions(truth, solutions, 'changes', labels=[0, 1])\n",
    "task3_results = evaluator.compute_score_multiple_predictions(truth, solutions, 'paragraph-authors', labels=[1,2,3,4,5])\n",
    "\n",
    "print(\"task1_score\", task1_results)\n",
    "print(\"task2_score\", task2_results)\n",
    "print(\"task3_score\", task3_results)"
   ]
  },
  {
   "cell_type": "code",
   "execution_count": 32,
   "metadata": {},
   "outputs": [
    {
     "name": "stdout",
     "output_type": "stream",
     "text": [
      "task1_score 0.20062193598125155\n",
      "task2_score 0.3213416265639423\n",
      "task3_score 0.1489315603643603\n"
     ]
    },
    {
     "name": "stderr",
     "output_type": "stream",
     "text": [
      "/usr/local/lib/python3.6/dist-packages/sklearn/metrics/_classification.py:1515: UndefinedMetricWarning: F-score is ill-defined and being set to 0.0 in labels with no true nor predicted samples. Use `zero_division` parameter to control this behavior.\n",
      "  average, \"true nor predicted\", 'F-score is', len(true_sum)\n"
     ]
    }
   ],
   "source": [
    "# 2020 Narrow, 2020 Wide, 2021 - parameter tuned\n",
    "truth = evaluator.read_ground_truth_files(GROUND_TRUTH_DIR)\n",
    "\n",
    "task1_results = evaluator.compute_score_single_predictions(truth, solutions, 'multi-author')\n",
    "task2_results = evaluator.compute_score_multiple_predictions(truth, solutions, 'changes', labels=[0, 1])\n",
    "task3_results = evaluator.compute_score_multiple_predictions(truth, solutions, 'paragraph-authors', labels=[1,2,3,4,5])\n",
    "\n",
    "print(\"task1_score\", task1_results)\n",
    "print(\"task2_score\", task2_results)\n",
    "print(\"task3_score\", task3_results)"
   ]
  },
  {
   "cell_type": "code",
   "execution_count": 15,
   "metadata": {},
   "outputs": [
    {
     "name": "stdout",
     "output_type": "stream",
     "text": [
      "task1_score 0.6192071134503623\n",
      "task2_score 0.5950326977258598\n",
      "task3_score 0.2899713781706845\n"
     ]
    }
   ],
   "source": [
    "# 2020 Narrow, 2020 Wide, 2021\n",
    "truth = evaluator.read_ground_truth_files(GROUND_TRUTH_DIR)\n",
    "\n",
    "task1_results = evaluator.compute_score_single_predictions(truth, solutions, 'multi-author')\n",
    "task2_results = evaluator.compute_score_multiple_predictions(truth, solutions, 'changes', labels=[0, 1])\n",
    "task3_results = evaluator.compute_score_multiple_predictions(truth, solutions, 'paragraph-authors', labels=[1,2,3,4,5])\n",
    "\n",
    "print(\"task1_score\", task1_results)\n",
    "print(\"task2_score\", task2_results)\n",
    "print(\"task3_score\", task3_results)"
   ]
  },
  {
   "cell_type": "code",
   "execution_count": 57,
   "metadata": {},
   "outputs": [
    {
     "name": "stdout",
     "output_type": "stream",
     "text": [
      "task1_score 0.5913422946130158\n",
      "task2_score 0.5614510717780228\n",
      "task3_score 0.2858810338111458\n"
     ]
    }
   ],
   "source": [
    "# 2020 Narrow, 2021 Param tuned, Logistic regression\n",
    "truth = evaluator.read_ground_truth_files(GROUND_TRUTH_DIR)\n",
    "\n",
    "task1_results = evaluator.compute_score_single_predictions(truth, solutions, 'multi-author')\n",
    "task2_results = evaluator.compute_score_multiple_predictions(truth, solutions, 'changes', labels=[0, 1])\n",
    "task3_results = evaluator.compute_score_multiple_predictions(truth, solutions, 'paragraph-authors', labels=[1,2,3,4,5])\n",
    "\n",
    "print(\"task1_score\", task1_results)\n",
    "print(\"task2_score\", task2_results)\n",
    "print(\"task3_score\", task3_results)"
   ]
  },
  {
   "cell_type": "code",
   "execution_count": 47,
   "metadata": {},
   "outputs": [
    {
     "name": "stdout",
     "output_type": "stream",
     "text": [
      "task1_score 0.585147614272933\n",
      "task2_score 0.542232968242265\n",
      "task3_score 0.2809123970141366\n"
     ]
    }
   ],
   "source": [
    "# 2020 Narrow, 2021 Param tuned\n",
    "truth = evaluator.read_ground_truth_files(GROUND_TRUTH_DIR)\n",
    "\n",
    "task1_results = evaluator.compute_score_single_predictions(truth, solutions, 'multi-author')\n",
    "task2_results = evaluator.compute_score_multiple_predictions(truth, solutions, 'changes', labels=[0, 1])\n",
    "task3_results = evaluator.compute_score_multiple_predictions(truth, solutions, 'paragraph-authors', labels=[1,2,3,4,5])\n",
    "\n",
    "print(\"task1_score\", task1_results)\n",
    "print(\"task2_score\", task2_results)\n",
    "print(\"task3_score\", task3_results)"
   ]
  },
  {
   "cell_type": "code",
   "execution_count": 18,
   "metadata": {},
   "outputs": [
    {
     "name": "stdout",
     "output_type": "stream",
     "text": [
      "task1_score 0.5756817056981113\n",
      "task2_score 0.6107056452974297\n",
      "task3_score 0.30518762256514587\n"
     ]
    }
   ],
   "source": [
    "# 2020 Narrow, 2021 \n",
    "truth = evaluator.read_ground_truth_files(GROUND_TRUTH_DIR)\n",
    "\n",
    "task1_results = evaluator.compute_score_single_predictions(truth, solutions, 'multi-author')\n",
    "task2_results = evaluator.compute_score_multiple_predictions(truth, solutions, 'changes', labels=[0, 1])\n",
    "task3_results = evaluator.compute_score_multiple_predictions(truth, solutions, 'paragraph-authors', labels=[1,2,3,4,5])\n",
    "\n",
    "print(\"task1_score\", task1_results)\n",
    "print(\"task2_score\", task2_results)\n",
    "print(\"task3_score\", task3_results)"
   ]
  },
  {
   "cell_type": "code",
   "execution_count": 24,
   "metadata": {},
   "outputs": [
    {
     "name": "stdout",
     "output_type": "stream",
     "text": [
      "task1_score 0.6315126800050974\n",
      "task2_score 0.6080145538527165\n",
      "task3_score 0.299864687412713\n"
     ]
    }
   ],
   "source": [
    "# 2020 Wide, 2021 \n",
    "truth = evaluator.read_ground_truth_files(GROUND_TRUTH_DIR)\n",
    "\n",
    "task1_results = evaluator.compute_score_single_predictions(truth, solutions, 'multi-author')\n",
    "task2_results = evaluator.compute_score_multiple_predictions(truth, solutions, 'changes', labels=[0, 1])\n",
    "task3_results = evaluator.compute_score_multiple_predictions(truth, solutions, 'paragraph-authors', labels=[1,2,3,4,5])\n",
    "\n",
    "print(\"task1_score\", task1_results)\n",
    "print(\"task2_score\", task2_results)\n",
    "print(\"task3_score\", task3_results)"
   ]
  },
  {
   "cell_type": "code",
   "execution_count": 60,
   "metadata": {},
   "outputs": [
    {
     "name": "stdout",
     "output_type": "stream",
     "text": [
      "task1_score 0.6515297375658958\n",
      "task2_score 0.6746050576341451\n",
      "task3_score 0.33715115409122587\n"
     ]
    }
   ],
   "source": [
    "# 2021 with additional training data, Logistic Regression, Tuned\n",
    "truth = evaluator.read_ground_truth_files(GROUND_TRUTH_DIR)\n",
    "\n",
    "task1_results = evaluator.compute_score_single_predictions(truth, solutions, 'multi-author')\n",
    "task2_results = evaluator.compute_score_multiple_predictions(truth, solutions, 'changes', labels=[0, 1])\n",
    "task3_results = evaluator.compute_score_multiple_predictions(truth, solutions, 'paragraph-authors', labels=[1,2,3,4,5])\n",
    "\n",
    "print(\"task1_score\", task1_results)\n",
    "print(\"task2_score\", task2_results)\n",
    "print(\"task3_score\", task3_results)"
   ]
  },
  {
   "cell_type": "code",
   "execution_count": 54,
   "metadata": {},
   "outputs": [
    {
     "name": "stdout",
     "output_type": "stream",
     "text": [
      "task1_score 0.6543042733019168\n",
      "task2_score 0.6726840425088245\n",
      "task3_score 0.3326809901827926\n"
     ]
    }
   ],
   "source": [
    "# 2021 Logistic Regression, Tuned\n",
    "truth = evaluator.read_ground_truth_files(GROUND_TRUTH_DIR)\n",
    "\n",
    "task1_results = evaluator.compute_score_single_predictions(truth, solutions, 'multi-author')\n",
    "task2_results = evaluator.compute_score_multiple_predictions(truth, solutions, 'changes', labels=[0, 1])\n",
    "task3_results = evaluator.compute_score_multiple_predictions(truth, solutions, 'paragraph-authors', labels=[1,2,3,4,5])\n",
    "\n",
    "print(\"task1_score\", task1_results)\n",
    "print(\"task2_score\", task2_results)\n",
    "print(\"task3_score\", task3_results)"
   ]
  },
  {
   "cell_type": "code",
   "execution_count": 50,
   "metadata": {},
   "outputs": [
    {
     "name": "stdout",
     "output_type": "stream",
     "text": [
      "task1_score 0.6455188481389458\n",
      "task2_score 0.668116804548034\n",
      "task3_score 0.33306900696144565\n"
     ]
    }
   ],
   "source": [
    "# 2021 Tuned\n",
    "truth = evaluator.read_ground_truth_files(GROUND_TRUTH_DIR)\n",
    "\n",
    "task1_results = evaluator.compute_score_single_predictions(truth, solutions, 'multi-author')\n",
    "task2_results = evaluator.compute_score_multiple_predictions(truth, solutions, 'changes', labels=[0, 1])\n",
    "task3_results = evaluator.compute_score_multiple_predictions(truth, solutions, 'paragraph-authors', labels=[1,2,3,4,5])\n",
    "\n",
    "print(\"task1_score\", task1_results)\n",
    "print(\"task2_score\", task2_results)\n",
    "print(\"task3_score\", task3_results)"
   ]
  },
  {
   "cell_type": "code",
   "execution_count": 21,
   "metadata": {},
   "outputs": [
    {
     "name": "stdout",
     "output_type": "stream",
     "text": [
      "task1_score 0.6450167408562897\n",
      "task2_score 0.6698177624071655\n",
      "task3_score 0.32884445494938486\n"
     ]
    }
   ],
   "source": [
    "# 2021\n",
    "truth = evaluator.read_ground_truth_files(GROUND_TRUTH_DIR)\n",
    "\n",
    "task1_results = evaluator.compute_score_single_predictions(truth, solutions, 'multi-author')\n",
    "task2_results = evaluator.compute_score_multiple_predictions(truth, solutions, 'changes', labels=[0, 1])\n",
    "task3_results = evaluator.compute_score_multiple_predictions(truth, solutions, 'paragraph-authors', labels=[1,2,3,4,5])\n",
    "\n",
    "print(\"task1_score\", task1_results)\n",
    "print(\"task2_score\", task2_results)\n",
    "print(\"task3_score\", task3_results)"
   ]
  },
  {
   "cell_type": "code",
   "execution_count": 10,
   "metadata": {},
   "outputs": [
    {
     "name": "stdout",
     "output_type": "stream",
     "text": [
      "task1_score 0.6381345429606189\n",
      "task2_score 0.6596201150544162\n",
      "task3_score 0.33332838489114\n"
     ]
    }
   ],
   "source": [
    "# With new vocab richness features, re-sampled training data, and abbrev features\n",
    "print(\"task1_score\", task1_results)\n",
    "print(\"task2_score\", task2_results)\n",
    "print(\"task3_score\", task3_results)"
   ]
  },
  {
   "cell_type": "code",
   "execution_count": 42,
   "metadata": {},
   "outputs": [
    {
     "name": "stdout",
     "output_type": "stream",
     "text": [
      "task1_score 0.6307818231963915\n",
      "task2_score 0.6618821073958295\n",
      "task3_score 0.33100871404004595\n"
     ]
    }
   ],
   "source": [
    "# With new vocab richness features, re-sampled training data, and abbrev features\n",
    "print(\"task1_score\", task1_results)\n",
    "print(\"task2_score\", task2_results)\n",
    "print(\"task3_score\", task3_results)"
   ]
  },
  {
   "cell_type": "code",
   "execution_count": 58,
   "metadata": {},
   "outputs": [
    {
     "name": "stdout",
     "output_type": "stream",
     "text": [
      "task1_score 0.6368675438367883\n",
      "task2_score 0.667185893120964\n",
      "task3_score 0.33187120141369514\n"
     ]
    }
   ],
   "source": [
    "# With new vocab richness features and re-sampled training data\n",
    "print(\"task1_score\", task1_results)\n",
    "print(\"task2_score\", task2_results)\n",
    "print(\"task3_score\", task3_results)"
   ]
  },
  {
   "cell_type": "code",
   "execution_count": 17,
   "metadata": {},
   "outputs": [
    {
     "name": "stdout",
     "output_type": "stream",
     "text": [
      "task1_score 0.6499788163794786\n",
      "task2_score 0.6722909734510989\n",
      "task3_score 0.3306673714495353\n"
     ]
    }
   ],
   "source": [
    "# With new vocab richness features and misspelling features\n",
    "print(\"task1_score\", task1_results)\n",
    "print(\"task2_score\", task2_results)\n",
    "print(\"task3_score\", task3_results)"
   ]
  },
  {
   "cell_type": "code",
   "execution_count": 45,
   "metadata": {},
   "outputs": [
    {
     "name": "stdout",
     "output_type": "stream",
     "text": [
      "task1_score 0.6489929440418344\n",
      "task2_score 0.6630730084014798\n",
      "task3_score 0.3264218118122444\n"
     ]
    }
   ],
   "source": [
    "# With new vocab richness features\n",
    "print(\"task1_score\", task1_results)\n",
    "print(\"task2_score\", task2_results)\n",
    "print(\"task3_score\", task3_results)"
   ]
  },
  {
   "cell_type": "code",
   "execution_count": 249,
   "metadata": {},
   "outputs": [
    {
     "name": "stdout",
     "output_type": "stream",
     "text": [
      "task1_score 0.6342856461586952\n",
      "task2_score 0.6526037259064174\n",
      "task3_score 0.3308351036739131\n"
     ]
    }
   ],
   "source": [
    "print(\"task1_score\", task1_results)\n",
    "print(\"task2_score\", task2_results)\n",
    "print(\"task3_score\", task3_results)"
   ]
  },
  {
   "cell_type": "code",
   "execution_count": 38,
   "metadata": {},
   "outputs": [
    {
     "name": "stdout",
     "output_type": "stream",
     "text": [
      "task1_score 0.6381345429606189\n",
      "task2_score 0.6596201150544162\n",
      "task3_score 0.2861795037704706\n"
     ]
    }
   ],
   "source": [
    "# trying different cluster parameters\n",
    "print(\"task1_score\", task1_results)\n",
    "print(\"task2_score\", task2_results)\n",
    "print(\"task3_score\", task3_results)"
   ]
  },
  {
   "cell_type": "code",
   "execution_count": null,
   "metadata": {
    "collapsed": true
   },
   "outputs": [],
   "source": []
  }
 ],
 "metadata": {
  "kernelspec": {
   "display_name": "Python 3",
   "language": "python",
   "name": "python3"
  },
  "language_info": {
   "codemirror_mode": {
    "name": "ipython",
    "version": 3
   },
   "file_extension": ".py",
   "mimetype": "text/x-python",
   "name": "python",
   "nbconvert_exporter": "python",
   "pygments_lexer": "ipython3",
   "version": "3.6.9"
  }
 },
 "nbformat": 4,
 "nbformat_minor": 2
}
